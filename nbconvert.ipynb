{
 "cells": [
  {
   "cell_type": "markdown",
   "id": "907d3e5b-f87b-4e23-83a8-8a2610ecda2e",
   "metadata": {},
   "source": [
    "Cheat sheet for Jupyter notebook pdf export using *nbconvert*.\n",
    "\n",
    "## Notebook to pdf conversion {-}\n",
    "\n",
    "Steps:\n",
    "\n",
    " 0. Prerequisites\n",
    " 1. Prepare template for conversion\n",
    " 2. Choose cells to hide\n",
    " 3. Convert\n",
    "\n",
    "### Prerequisites {-}\n",
    "\n",
    " - Latex: Tested with [Miktex](https://miktex.org/).\n",
    " - Jupyter Lab or VsCode for runnin notebooks, classic Jupyter Notebooks for adding tags.\n",
    "\n",
    "### Template {-}\n",
    "\n",
    "Append following snippet as an *.tplx* file (e.g., *article_example.tplx*) to *nbconvert* latex template folder, e.g., in Windows path *C:/ProgramData/jupyter/nbconvert/templates/latex*.\n",
    "\n",
    "```\n",
    "((*- extends 'article.tplx' -*))\n",
    "\n",
    "%===============================================================================\n",
    "% Document level\n",
    "%===============================================================================\n",
    "\n",
    "((* block docclass *))\n",
    "\\documentclass[8pt,a4paper,prb]{article}\n",
    "((* endblock docclass *))\n",
    "\n",
    "%===============================================================================\n",
    "% Output cells\n",
    "%===============================================================================\n",
    "\n",
    "% stream ouput\n",
    "((* block stream *))\n",
    "    \\begin{Verbatim}[commandchars=\\\\\\{\\},fontsize=\\footnotesize]\n",
    "((( output.text | wrap_text(108) | escape_latex | ansi2latex )))\n",
    "    \\end{Verbatim}\n",
    "((* endblock stream *))\n",
    "```\n",
    "\n",
    "### Hiding cells from conversion {-}\n",
    "\n",
    "Selected cells or alternatively cell input can be hidden from output using `TagRemovePreprocessor` tags as per [this answer](https://stackoverflow.com/a/48084050). Tags in notebook have to be added in classic notebooks rather than in Jupyter Lab.\n",
    "\n",
    "### Convert {-}\n",
    "\n",
    "Command for conversion:\n",
    "\n",
    "`jupyter nbconvert --to pdf --template article_example <notebook_name>.ipynb --TagRemovePreprocessor.remove_cell_tags={\\\"remove_cell\\\"} --TagRemovePreprocessor.remove_input_tags={\\\"remove_input\\\"}`\n",
    "\n",
    "## Some hints {-}\n",
    "\n",
    " - Careful with backslashes, they might result in failed conversion.\n",
    " - Title numbering can be suppressed by \"{-}\".\n",
    " - Using \"\\\\text{}\" in math mode might cause conversion to fail, perhaps due to backlash? \n",
    " - There should be no spaces before closing \"\\$\" in math mode, otherwise might complain about missing dollar sign.\n",
    " - Better run notebook in Jupyter Lab rather than in VSCode before export; the latter may produce notebooks unsuitable for conversion for some reason."
   ]
  },
  {
   "cell_type": "markdown",
   "id": "24555ed7-a3ce-4455-a2f7-7ec085d5a438",
   "metadata": {},
   "source": [
    "## Test cells for export {-}"
   ]
  },
  {
   "cell_type": "markdown",
   "id": "e13c74ab-2fb3-4ae0-8cdc-829b8fb35265",
   "metadata": {},
   "source": [
    "Some markdown text with Latex: $y = \\alpha  + \\beta x + \\epsilon$"
   ]
  },
  {
   "cell_type": "code",
   "execution_count": 1,
   "id": "99d131d1-462b-457d-926e-703126da68a8",
   "metadata": {},
   "outputs": [],
   "source": [
    "import numpy as np\n",
    "import pandas as pd"
   ]
  },
  {
   "cell_type": "code",
   "execution_count": 2,
   "id": "efe05f96-10eb-4385-8fca-02ca23c993ef",
   "metadata": {},
   "outputs": [
    {
     "data": {
      "image/png": "[encoded data removed]",
      "text/plain": [
       "<Figure size 432x288 with 1 Axes>"
      ]
     },
     "metadata": {
      "needs_background": "light"
     },
     "output_type": "display_data"
    }
   ],
   "source": [
    "_ = pd.DataFrame(\n",
    "    np.random.normal(size=[100, 2]),\n",
    "    columns=[\"var1\", \"var2\"]\n",
    ").plot(x=\"var1\", y=\"var2\", kind=\"scatter\")"
   ]
  }
 ],
 "metadata": {
  "kernelspec": {
   "display_name": "dev2021b_py",
   "language": "python",
   "name": "dev2021b_py"
  },
  "language_info": {
   "codemirror_mode": {
    "name": "ipython",
    "version": 3
   },
   "file_extension": ".py",
   "mimetype": "text/x-python",
   "name": "python",
   "nbconvert_exporter": "python",
   "pygments_lexer": "ipython3",
   "version": "3.9.7"
  }
 },
 "nbformat": 4,
 "nbformat_minor": 5
}
