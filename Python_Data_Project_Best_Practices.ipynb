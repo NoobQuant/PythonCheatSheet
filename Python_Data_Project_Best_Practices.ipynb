{
 "cells": [
  {
   "cell_type": "markdown",
   "metadata": {},
   "source": [
    "Next line is to force reload of separate functions and scripts"
   ]
  },
  {
   "cell_type": "code",
   "execution_count": 2,
   "metadata": {},
   "outputs": [
    {
     "name": "stdout",
     "output_type": "stream",
     "text": [
      "The autoreload extension is already loaded. To reload it, use:\n",
      "  %reload_ext autoreload\n"
     ]
    }
   ],
   "source": [
    "%load_ext autoreload\n",
    "%autoreload 2"
   ]
  },
  {
   "cell_type": "code",
   "execution_count": 1,
   "metadata": {},
   "outputs": [],
   "source": [
    "import pandas as pd\n",
    "import numpy as np\n",
    "import os\n",
    "from IPython.display import display_html\n",
    "from IPython.display import display\n",
    "import watermark\n",
    "%matplotlib inline\n",
    "from matplotlib import pyplot as plt\n",
    "\n",
    "def display_side_by_side(*args):\n",
    "    html_str=''\n",
    "    for df in args:\n",
    "        html_str+=df.to_html()\n",
    "    html_str = html_str.replace('table','table style=\"display:inline; border:0px\"')          \n",
    "    display_html(html_str,raw=True)"
   ]
  },
  {
   "cell_type": "markdown",
   "metadata": {},
   "source": [
    "## Watermarks\n",
    "Watermarks is a nice <a href=\"https://github.com/rasbt/watermark\">plugin</a> that enables some convenience prints for system/version info etc. See more examples <a href=\"https://github.com/rasbt/watermark/blob/master/docs/watermark.ipynb\">here</a>."
   ]
  },
  {
   "cell_type": "code",
   "execution_count": 2,
   "metadata": {},
   "outputs": [],
   "source": [
    "%load_ext watermark"
   ]
  },
  {
   "cell_type": "code",
   "execution_count": 4,
   "metadata": {},
   "outputs": [
    {
     "name": "stdout",
     "output_type": "stream",
     "text": [
      "pandas    0.20.1\n",
      "numpy     1.15.2\n",
      "matplotlib2.0.2\n",
      "watermark 1.8.0\n",
      "\n"
     ]
    }
   ],
   "source": [
    "%watermark -iv"
   ]
  },
  {
   "cell_type": "code",
   "execution_count": 2,
   "metadata": {},
   "outputs": [],
   "source": [
    "data = {'ID': [1, 2, 2],'Names': ['Kate', 'John', 'Max'],'Age': ['g50', 40, 25], 'Values': [3, 4, np.nan] , 'Height': [174, 181, '169']}\n",
    "df = pd.DataFrame(data=data)"
   ]
  },
  {
   "cell_type": "code",
   "execution_count": 3,
   "metadata": {},
   "outputs": [
    {
     "name": "stdout",
     "output_type": "stream",
     "text": [
      "Length of dataframe: 3\n"
     ]
    },
    {
     "data": {
      "text/html": [
       "<div>\n",
       "<table border=\"1\" class=\"dataframe\">\n",
       "  <thead>\n",
       "    <tr style=\"text-align: right;\">\n",
       "      <th></th>\n",
       "      <th>Age</th>\n",
       "      <th>Height</th>\n",
       "      <th>ID</th>\n",
       "      <th>Names</th>\n",
       "      <th>Values</th>\n",
       "    </tr>\n",
       "  </thead>\n",
       "  <tbody>\n",
       "    <tr>\n",
       "      <th>0</th>\n",
       "      <td>g50</td>\n",
       "      <td>174</td>\n",
       "      <td>1</td>\n",
       "      <td>Kate</td>\n",
       "      <td>3.0</td>\n",
       "    </tr>\n",
       "    <tr>\n",
       "      <th>1</th>\n",
       "      <td>40</td>\n",
       "      <td>181</td>\n",
       "      <td>2</td>\n",
       "      <td>John</td>\n",
       "      <td>4.0</td>\n",
       "    </tr>\n",
       "    <tr>\n",
       "      <th>2</th>\n",
       "      <td>25</td>\n",
       "      <td>169</td>\n",
       "      <td>2</td>\n",
       "      <td>Max</td>\n",
       "      <td>NaN</td>\n",
       "    </tr>\n",
       "  </tbody>\n",
       "</table>\n",
       "</div>"
      ],
      "text/plain": [
       "   Age Height  ID Names  Values\n",
       "0  g50    174   1  Kate     3.0\n",
       "1   40    181   2  John     4.0\n",
       "2   25    169   2   Max     NaN"
      ]
     },
     "execution_count": 3,
     "metadata": {},
     "output_type": "execute_result"
    }
   ],
   "source": [
    "print(\"Length of dataframe: {}\".format(len(df)))\n",
    "df.head()"
   ]
  },
  {
   "cell_type": "code",
   "execution_count": 4,
   "metadata": {},
   "outputs": [
    {
     "data": {
      "text/plain": [
       "Index(['Age', 'Height', 'ID', 'Names', 'Values'], dtype='object')"
      ]
     },
     "metadata": {},
     "output_type": "display_data"
    }
   ],
   "source": [
    "display(df.columns)"
   ]
  },
  {
   "cell_type": "code",
   "execution_count": 5,
   "metadata": {},
   "outputs": [
    {
     "name": "stderr",
     "output_type": "stream",
     "text": [
      "C:\\Program Files\\Anaconda3\\lib\\site-packages\\numpy\\lib\\function_base.py:3834: RuntimeWarning: Invalid value encountered in percentile\n",
      "  RuntimeWarning)\n"
     ]
    },
    {
     "data": {
      "text/html": [
       "<div>\n",
       "<table border=\"1\" class=\"dataframe\">\n",
       "  <thead>\n",
       "    <tr style=\"text-align: right;\">\n",
       "      <th></th>\n",
       "      <th>ID</th>\n",
       "      <th>Values</th>\n",
       "    </tr>\n",
       "  </thead>\n",
       "  <tbody>\n",
       "    <tr>\n",
       "      <th>count</th>\n",
       "      <td>3.000000</td>\n",
       "      <td>2.000000</td>\n",
       "    </tr>\n",
       "    <tr>\n",
       "      <th>mean</th>\n",
       "      <td>1.666667</td>\n",
       "      <td>3.500000</td>\n",
       "    </tr>\n",
       "    <tr>\n",
       "      <th>std</th>\n",
       "      <td>0.577350</td>\n",
       "      <td>0.707107</td>\n",
       "    </tr>\n",
       "    <tr>\n",
       "      <th>min</th>\n",
       "      <td>1.000000</td>\n",
       "      <td>3.000000</td>\n",
       "    </tr>\n",
       "    <tr>\n",
       "      <th>25%</th>\n",
       "      <td>1.500000</td>\n",
       "      <td>NaN</td>\n",
       "    </tr>\n",
       "    <tr>\n",
       "      <th>50%</th>\n",
       "      <td>2.000000</td>\n",
       "      <td>NaN</td>\n",
       "    </tr>\n",
       "    <tr>\n",
       "      <th>75%</th>\n",
       "      <td>2.000000</td>\n",
       "      <td>NaN</td>\n",
       "    </tr>\n",
       "    <tr>\n",
       "      <th>max</th>\n",
       "      <td>2.000000</td>\n",
       "      <td>4.000000</td>\n",
       "    </tr>\n",
       "  </tbody>\n",
       "</table>\n",
       "</div>"
      ],
      "text/plain": [
       "             ID    Values\n",
       "count  3.000000  2.000000\n",
       "mean   1.666667  3.500000\n",
       "std    0.577350  0.707107\n",
       "min    1.000000  3.000000\n",
       "25%    1.500000       NaN\n",
       "50%    2.000000       NaN\n",
       "75%    2.000000       NaN\n",
       "max    2.000000  4.000000"
      ]
     },
     "execution_count": 5,
     "metadata": {},
     "output_type": "execute_result"
    }
   ],
   "source": [
    "df.describe()"
   ]
  },
  {
   "cell_type": "code",
   "execution_count": 6,
   "metadata": {},
   "outputs": [
    {
     "name": "stdout",
     "output_type": "stream",
     "text": [
      "Type of column Age is object\n",
      "Type of column Age values is object\n",
      "------------------------------\n",
      "Type of column Height is object\n",
      "Type of column Height values is object\n",
      "------------------------------\n",
      "Type of column ID is int64\n",
      "Type of column ID values is int64\n",
      "------------------------------\n",
      "Type of column Names is object\n",
      "Type of column Names values is object\n",
      "------------------------------\n",
      "Type of column Values is float64\n",
      "Type of column Values values is float64\n",
      "------------------------------\n"
     ]
    }
   ],
   "source": [
    "colnames = df.columns\n",
    "for colname in colnames:\n",
    "    print('Type of column {} is {}'.format(colname,df[colname].dtype))\n",
    "    print('Type of column {} values is {}'.format(colname,df[colname].values.dtype))\n",
    "    print('-'*30)"
   ]
  },
  {
   "cell_type": "code",
   "execution_count": 7,
   "metadata": {},
   "outputs": [
    {
     "name": "stdout",
     "output_type": "stream",
     "text": [
      "Column Age has 0 NaN observations\n",
      "Column Age has 1 non-numeric observations\n",
      "------------------------------\n",
      "Column Height has 0 NaN observations\n",
      "Column Height has 0 non-numeric observations\n",
      "------------------------------\n",
      "Column ID has 0 NaN observations\n",
      "Column ID has 0 non-numeric observations\n",
      "------------------------------\n",
      "Column Names has 0 NaN observations\n",
      "Column Names has 3 non-numeric observations\n",
      "------------------------------\n",
      "Column Values has 1 NaN observations\n",
      "Column Values has 1 non-numeric observations\n",
      "------------------------------\n"
     ]
    }
   ],
   "source": [
    "# Count NaNs and non-numeric field\n",
    "colnames = df.columns\n",
    "for colname in colnames:    \n",
    "    print('Column {} has {} NaN observations'.format(colname,pd.isnull(df[colname]).sum()))\n",
    "    print('Column {} has {} non-numeric observations'.format(colname, len(df.loc[pd.to_numeric(df[colname], errors='coerce').isnull(), colname])))\n",
    "    print('-'*30)\n",
    "    "
   ]
  },
  {
   "cell_type": "markdown",
   "metadata": {},
   "source": [
    "### Duplicates in some column"
   ]
  },
  {
   "cell_type": "code",
   "execution_count": 8,
   "metadata": {},
   "outputs": [
    {
     "data": {
      "text/html": [
       "<div>\n",
       "<table border=\"1\" class=\"dataframe\">\n",
       "  <thead>\n",
       "    <tr style=\"text-align: right;\">\n",
       "      <th></th>\n",
       "      <th>Age</th>\n",
       "      <th>Height</th>\n",
       "      <th>ID</th>\n",
       "      <th>Names</th>\n",
       "      <th>Values</th>\n",
       "    </tr>\n",
       "  </thead>\n",
       "  <tbody>\n",
       "    <tr>\n",
       "      <th>1</th>\n",
       "      <td>40</td>\n",
       "      <td>181</td>\n",
       "      <td>2</td>\n",
       "      <td>John</td>\n",
       "      <td>4.0</td>\n",
       "    </tr>\n",
       "    <tr>\n",
       "      <th>2</th>\n",
       "      <td>25</td>\n",
       "      <td>169</td>\n",
       "      <td>2</td>\n",
       "      <td>Max</td>\n",
       "      <td>NaN</td>\n",
       "    </tr>\n",
       "  </tbody>\n",
       "</table>\n",
       "</div>"
      ],
      "text/plain": [
       "  Age Height  ID Names  Values\n",
       "1  40    181   2  John     4.0\n",
       "2  25    169   2   Max     NaN"
      ]
     },
     "metadata": {},
     "output_type": "display_data"
    },
    {
     "name": "stdout",
     "output_type": "stream",
     "text": [
      "1 duplicate IDs\n"
     ]
    }
   ],
   "source": [
    "counts = df['ID'].value_counts()\n",
    "counts  = counts[counts >= 2].index\n",
    "\n",
    "display(df[df['ID'].isin(counts)])\n",
    "print(\"{} duplicate IDs\".format(df.duplicated(subset=['ID'], keep='first').sum()))\n",
    "orig_length = len(df)\n"
   ]
  },
  {
   "cell_type": "markdown",
   "metadata": {},
   "source": [
    "### Drop duplicates from all columns"
   ]
  },
  {
   "cell_type": "code",
   "execution_count": 10,
   "metadata": {},
   "outputs": [
    {
     "name": "stdout",
     "output_type": "stream",
     "text": [
      "Dropping 0 observations due to NaN in Age\n",
      "Dropping 0 observations due to NaN in Height\n",
      "Dropping 0 observations due to NaN in ID\n",
      "Dropping 0 observations due to NaN in Names\n",
      "Dropping 1 observations due to NaN in Values\n"
     ]
    }
   ],
   "source": [
    "data = {'ID': [1, 2, 2],'Names': ['Kate', 'John', 'Max'],'Age': [47, 40, 25], 'Values': [3, 4, np.nan] , 'Height': [174, 181, '169']}\n",
    "df = pd.DataFrame(data=data)\n",
    "\n",
    "# Drop observations where NaN\n",
    "colnames = df.columns\n",
    "for colname in colnames:    \n",
    "    print('Dropping {} observations due to NaN in {}'.format(pd.isnull(df[colname]).sum(), colname))\n",
    "    df = df[pd.isnull(df[colname]) == False]"
   ]
  },
  {
   "cell_type": "markdown",
   "metadata": {},
   "source": [
    "### Columns (discrete numeric) 1-by-1"
   ]
  },
  {
   "cell_type": "code",
   "execution_count": 15,
   "metadata": {},
   "outputs": [
    {
     "data": {
      "text/html": [
       "<div>\n",
       "<table border=\"1\" class=\"dataframe\">\n",
       "  <thead>\n",
       "    <tr style=\"text-align: right;\">\n",
       "      <th></th>\n",
       "      <th>Age</th>\n",
       "      <th>count</th>\n",
       "    </tr>\n",
       "  </thead>\n",
       "  <tbody>\n",
       "    <tr>\n",
       "      <th>0</th>\n",
       "      <td>25</td>\n",
       "      <td>1</td>\n",
       "    </tr>\n",
       "    <tr>\n",
       "      <th>1</th>\n",
       "      <td>40</td>\n",
       "      <td>2</td>\n",
       "    </tr>\n",
       "  </tbody>\n",
       "</table>\n",
       "</div>"
      ],
      "text/plain": [
       "   Age  count\n",
       "0   25      1\n",
       "1   40      2"
      ]
     },
     "metadata": {},
     "output_type": "display_data"
    },
    {
     "data": {
      "text/plain": [
       "<matplotlib.axes._subplots.AxesSubplot at 0x185d04bdba8>"
      ]
     },
     "execution_count": 15,
     "metadata": {},
     "output_type": "execute_result"
    },
    {
     "data": {
      "image/png": "[encoded data removed]",
      "text/plain": [
       "<matplotlib.figure.Figure at 0x185d0c68390>"
      ]
     },
     "metadata": {},
     "output_type": "display_data"
    }
   ],
   "source": [
    "data = {'ID': [1, 2, 2],'Names': ['Kate', 'John', 'Max'],'Age': [40, 40, 25], 'Values': [3, 4, np.nan] , 'Height': [174, 181, '169']}\n",
    "df = pd.DataFrame(data=data)\n",
    "\n",
    "var = 'Age'\n",
    "gg = df[[var]].fillna(-1).reset_index().groupby([var], as_index = False).count()\n",
    "gg.columns = [var, 'count']\n",
    "display(gg)\n",
    "df[var].plot(kind='hist')"
   ]
  },
  {
   "cell_type": "markdown",
   "metadata": {},
   "source": [
    "### Columns (continuous numeric) 1-by-1"
   ]
  },
  {
   "cell_type": "code",
   "execution_count": 17,
   "metadata": {
    "collapsed": true
   },
   "outputs": [],
   "source": [
    "def continuous_binning(pdseries, bins=''):\n",
    "    '''\n",
    "    Bins continious variable. Treats also NaNs\n",
    "    Returns data frame.\n",
    "    Arguments: \n",
    "        - pdseries: pandas.Series to be binned\n",
    "        - bins (optional): user-defined bins. If\n",
    "          not supplied then 5+1 bins by default.\n",
    "    '''\n",
    "    df = pd.DataFrame()\n",
    "    if bins == '':\n",
    "        df['bins'] = pd.cut(pdseries, 5, right = True)        \n",
    "    else:\n",
    "        df['bins'] = pd.cut(pdseries, bins, right = True)\n",
    "    df = df[['bins']].reset_index().groupby(['bins'], as_index = False).count()\n",
    "    df.columns = ['bins','count']\n",
    "    df_nans = pd.DataFrame({'bins': ['NaN'], 'count': [len(pdseries[np.isnan(pdseries)])]})\n",
    "    df = df.append(df_nans, ignore_index = True)\n",
    "    if df['count'].sum() != len(pdseries):\n",
    "        raise ValueError('Something wrong in function continuous_binning!')\n",
    "    return df, bins"
   ]
  },
  {
   "cell_type": "code",
   "execution_count": 18,
   "metadata": {},
   "outputs": [
    {
     "data": {
      "text/html": [
       "<div>\n",
       "<table border=\"1\" class=\"dataframe\">\n",
       "  <thead>\n",
       "    <tr style=\"text-align: right;\">\n",
       "      <th></th>\n",
       "      <th>bins</th>\n",
       "      <th>count</th>\n",
       "    </tr>\n",
       "  </thead>\n",
       "  <tbody>\n",
       "    <tr>\n",
       "      <th>0</th>\n",
       "      <td>(-inf, 0]</td>\n",
       "      <td>0</td>\n",
       "    </tr>\n",
       "    <tr>\n",
       "      <th>1</th>\n",
       "      <td>(0, 0.5]</td>\n",
       "      <td>0</td>\n",
       "    </tr>\n",
       "    <tr>\n",
       "      <th>2</th>\n",
       "      <td>(0.5, 1]</td>\n",
       "      <td>0</td>\n",
       "    </tr>\n",
       "    <tr>\n",
       "      <th>3</th>\n",
       "      <td>(1, 1.5]</td>\n",
       "      <td>0</td>\n",
       "    </tr>\n",
       "    <tr>\n",
       "      <th>4</th>\n",
       "      <td>(1.5, 2]</td>\n",
       "      <td>0</td>\n",
       "    </tr>\n",
       "    <tr>\n",
       "      <th>5</th>\n",
       "      <td>(2, 2.5]</td>\n",
       "      <td>0</td>\n",
       "    </tr>\n",
       "    <tr>\n",
       "      <th>6</th>\n",
       "      <td>(2.5, 3]</td>\n",
       "      <td>1</td>\n",
       "    </tr>\n",
       "    <tr>\n",
       "      <th>7</th>\n",
       "      <td>(3, 3.5]</td>\n",
       "      <td>1</td>\n",
       "    </tr>\n",
       "    <tr>\n",
       "      <th>8</th>\n",
       "      <td>(3.5, 4]</td>\n",
       "      <td>0</td>\n",
       "    </tr>\n",
       "    <tr>\n",
       "      <th>9</th>\n",
       "      <td>(4, 4.5]</td>\n",
       "      <td>1</td>\n",
       "    </tr>\n",
       "    <tr>\n",
       "      <th>10</th>\n",
       "      <td>(4.5, inf]</td>\n",
       "      <td>0</td>\n",
       "    </tr>\n",
       "    <tr>\n",
       "      <th>11</th>\n",
       "      <td>NaN</td>\n",
       "      <td>0</td>\n",
       "    </tr>\n",
       "  </tbody>\n",
       "</table>\n",
       "</div>"
      ],
      "text/plain": [
       "          bins  count\n",
       "0    (-inf, 0]      0\n",
       "1     (0, 0.5]      0\n",
       "2     (0.5, 1]      0\n",
       "3     (1, 1.5]      0\n",
       "4     (1.5, 2]      0\n",
       "5     (2, 2.5]      0\n",
       "6     (2.5, 3]      1\n",
       "7     (3, 3.5]      1\n",
       "8     (3.5, 4]      0\n",
       "9     (4, 4.5]      1\n",
       "10  (4.5, inf]      0\n",
       "11         NaN      0"
      ]
     },
     "metadata": {},
     "output_type": "display_data"
    },
    {
     "data": {
      "text/plain": [
       "<matplotlib.axes._subplots.AxesSubplot at 0x185d0e64390>"
      ]
     },
     "execution_count": 18,
     "metadata": {},
     "output_type": "execute_result"
    },
    {
     "data": {
      "image/png": "[encoded data removed]",
      "text/plain": [
       "<matplotlib.figure.Figure at 0x185d0e54ef0>"
      ]
     },
     "metadata": {},
     "output_type": "display_data"
    }
   ],
   "source": [
    "data = {'ID': [1, 2, 2],'Names': ['Kate', 'John', 'Max'],'Age': [40, 40, 25], 'Values': [3.0, 4.1, 3.2] , 'Height': [174, 181, '169']}\n",
    "df = pd.DataFrame(data=data)\n",
    "\n",
    "var = 'Values'\n",
    "gg = df[var]\n",
    "bins = [-np.inf] + list(np.arange(0,5,0.5)) + [np.inf]\n",
    "gg, _ = continuous_binning(gg,bins)\n",
    "display(gg)\n",
    "df[var].plot(kind='hist',bins=bins)\n"
   ]
  },
  {
   "cell_type": "code",
   "execution_count": null,
   "metadata": {
    "collapsed": true
   },
   "outputs": [],
   "source": []
  }
 ],
 "metadata": {
  "anaconda-cloud": {},
  "kernelspec": {
   "display_name": "Python [default]",
   "language": "python",
   "name": "python3"
  },
  "language_info": {
   "codemirror_mode": {
    "name": "ipython",
    "version": 3
   },
   "file_extension": ".py",
   "mimetype": "text/x-python",
   "name": "python",
   "nbconvert_exporter": "python",
   "pygments_lexer": "ipython3",
   "version": "3.5.4"
  },
  "toc": {
   "nav_menu": {},
   "number_sections": true,
   "sideBar": true,
   "skip_h1_title": false,
   "toc_cell": false,
   "toc_position": {},
   "toc_section_display": "block",
   "toc_window_display": false
  }
 },
 "nbformat": 4,
 "nbformat_minor": 2
}
