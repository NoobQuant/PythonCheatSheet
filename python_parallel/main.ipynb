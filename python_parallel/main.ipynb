{
 "cells": [
  {
   "cell_type": "markdown",
   "id": "fce5792d-ecc8-4ba3-8802-51a13eab1007",
   "metadata": {},
   "source": [
    "# Examples on parallel processing with Python\n",
    "\n",
    "Tested on `dev2023a` conda environment, see [here](https://github.com/vvoutilainen/dsenvs/blob/main/condaenv.md).\n",
    "\n",
    "## Backround on parallel computing\n",
    "\n",
    "A [process](https://en.wikipedia.org/wiki/Process_(computing)) is the instance of a computer program that is being executed by one or many threads. A [thread](https://en.wikipedia.org/wiki/Thread_(computing)), is the smallest sequence of programmed instructions within a *process*. *Multithreading* allows for parallel execution of tasks.\n",
    "\n",
    "A useful analogy: cores are like chefs in the kitchen and threads are meal orders. The more chefs you have, the more orders you can prepare at a given time. Meanwhile, many chefs are not necessary when there is not a large number of orders to process. See [here](https://ioflood.com/blog/what-are-cpu-threads-cores-vs-threads-explained/).\n",
    "\n",
    "Modern computers often have a [Central Processing Unit](https://en.wikipedia.org/wiki/Central_processing_unit) (CPU) that is a multi-core processor. This is a single piece of hardware that provides several processing units, also called *cores*. Multiple cores can work concurrently. Intal cores use [hyperthreading](https://en.wikipedia.org/wiki/Hyper-threading), a system that essentially splits the pysical core into two *logical cores* (a.k.a. *virtual cores* or *threads*) and shares workloads between the two. See [this](https://superuser.com/a/168813/1679577).\n",
    "\n",
    "## Parallelization in Python\n",
    "\n",
    "### General\n",
    "\n",
    "*Global Interprete Lock* (GIL, from [here](https://docs.python.org/3.10/glossary.html#term-global-interpreter-lock)): \"The mechanism used by the CPython interpreter to assure that only one thread executes Python bytecode at a time. This simplifies the CPython implementation by making the object model (including critical built-in types such as dict) implicitly safe against concurrent access. **Locking the entire interpreter makes it easier for the interpreter to be multi-threaded, at the expense of much of the parallelism afforded by multi-processor machines**.\"\n",
    "\n",
    "[threading](https://docs.python.org/3.10/library/threading.html#module-threading) package allows to leverage multithreading. However, in order to make better use of the computational resources of multi-core machines, on is advised to use [multiprocessing](https://docs.python.org/3.10/library/multiprocessing.html) packge. *multiprocessing* side-steps the Global Interpreter Lock by using subprocesses instead of threads (however, it also provdies threading via `ThreadPool` instance) via, e.g., the `Pool` instance. `Pool` offers a convenient means of parallelizing the execution of a function across multiple input values, distributing the input data across processes.\n",
    "\n",
    "Multithreading might not be that useful (see comments [here](https://stackoverflow.com/q/70700809/7037299)). The Global Instruction Lock means that only one thread can use the Python interpreter at a time. Multithreading works best when your threads are waiting for external resources, not when needing data-parallelism.\n",
    "\n",
    "### Interactive interpreters like in Jupyter notebooks\n",
    "\n",
    "Functionality within *multiprocessing* package requires that the [main](https://docs.python.org/3.10/library/__main__.html) module module be importable by the children (new Python interpreters).  This means that using some of the package assets, like `Pool`, might not work in interactive interpreters, e.g., in Jupyter notebooks (see [this](https://docs.python.org/3.10/library/multiprocessing.html#using-a-pool-of-workers)). This can be circumvented by defining functions needing parallelization in separate .py files. \n",
    "\n",
    "In any case, to play it safe one should protect the “entry point” of the main program by using `if __name__ == '__main__'`. See [here](https://docs.python.org/3.10/library/multiprocessing.html#the-spawn-and-forkserver-start-methods)."
   ]
  },
  {
   "cell_type": "code",
   "execution_count": 1,
   "id": "4db72613-9e34-45e1-978e-54101c84dd9d",
   "metadata": {},
   "outputs": [],
   "source": [
    "import psutil\n",
    "import numpy as np\n",
    "from tests import(\n",
    "    test_map_pool,\n",
    "    test_map_threadpool,\n",
    "    test_loop,\n",
    "    test_loop_pool,\n",
    ")"
   ]
  },
  {
   "cell_type": "code",
   "execution_count": 2,
   "id": "f8fc4086-7601-476c-a545-b2eb5b9de13d",
   "metadata": {},
   "outputs": [
    {
     "name": "stdout",
     "output_type": "stream",
     "text": [
      "4 cores, 8 when counting logical cores.\n"
     ]
    }
   ],
   "source": [
    "print(\n",
    "    \"{} cores, {} when counting logical cores.\".format(\n",
    "        psutil.cpu_count(logical=False),\n",
    "        psutil.cpu_count(),\n",
    "    )\n",
    ")"
   ]
  },
  {
   "cell_type": "code",
   "execution_count": 3,
   "id": "d141a8d8-8e17-4168-a06f-5a24ccef8f24",
   "metadata": {},
   "outputs": [
    {
     "name": "stdout",
     "output_type": "stream",
     "text": [
      "------------------------------------------------------------\n",
      "Pool map\n",
      "Time: 7.13\n",
      "------------------------------------------------------------\n",
      "------------------------------------------------------------\n",
      "ThreadPool map\n",
      "Time: 25.18\n",
      "------------------------------------------------------------\n"
     ]
    }
   ],
   "source": [
    "if __name__ == '__main__':\n",
    "    job_list = [range(10000000)]*64\n",
    "    test_map_pool(job_list, pool=4)\n",
    "    test_map_threadpool(job_list, pool=4)"
   ]
  },
  {
   "cell_type": "code",
   "execution_count": 4,
   "id": "3182bd97-879d-4d0f-9822-47b8b7b105d4",
   "metadata": {},
   "outputs": [
    {
     "name": "stdout",
     "output_type": "stream",
     "text": [
      "------------------------------------------------------------\n",
      "test_loop\n",
      "Time: 11.38\n",
      "------------------------------------------------------------\n",
      "------------------------------------------------------------\n",
      "test_loop_pool\n",
      "Time: 4.29\n",
      "------------------------------------------------------------\n",
      "Lists agree? True\n"
     ]
    }
   ],
   "source": [
    "if __name__ == \"__main__\":\n",
    "    values_to_compare = np.random.randint(low=0, high=20, size=[20000, 5]).tolist()\n",
    "    values_compared_against = np.random.randint(low=0, high=20, size=[20000, 5]).tolist()\n",
    "    out1 = test_loop(values_to_compare, values_compared_against)\n",
    "    out2 = test_loop_pool(values_to_compare, values_compared_against, pool=4)\n",
    "    print(\"Lists agree? {}\".format(out1==out2))"
   ]
  }
 ],
 "metadata": {
  "kernelspec": {
   "display_name": "dev2023a_py",
   "language": "python",
   "name": "dev2023a_py"
  },
  "language_info": {
   "codemirror_mode": {
    "name": "ipython",
    "version": 3
   },
   "file_extension": ".py",
   "mimetype": "text/x-python",
   "name": "python",
   "nbconvert_exporter": "python",
   "pygments_lexer": "ipython3",
   "version": "3.10.9"
  }
 },
 "nbformat": 4,
 "nbformat_minor": 5
}
